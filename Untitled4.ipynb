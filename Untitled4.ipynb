{
  "nbformat": 4,
  "nbformat_minor": 0,
  "metadata": {
    "colab": {
      "name": "Untitled4.ipynb",
      "provenance": []
    },
    "kernelspec": {
      "name": "python3",
      "display_name": "Python 3"
    },
    "language_info": {
      "name": "python"
    }
  },
  "cells": [
    {
      "cell_type": "code",
      "execution_count": 1,
      "metadata": {
        "id": "KucKFMtZJx-H"
      },
      "outputs": [],
      "source": [
        "import time  # help time related calculation"
      ]
    },
    {
      "cell_type": "code",
      "source": [
        "def count(t):\n",
        "  while t>0:\n",
        "    print(t)\n",
        "    t=t-1\n",
        "    time.sleep(1)\n",
        "  print(\"0\")\n",
        "\n",
        "print(\"Enter the countdown u want?\")\n",
        "sec= int(input())\n",
        "count(sec)"
      ],
      "metadata": {
        "colab": {
          "base_uri": "https://localhost:8080/"
        },
        "id": "qdVkRfbAJ1m3",
        "outputId": "3dc37ebf-76e1-44f6-f64e-fa581ffbf165"
      },
      "execution_count": 14,
      "outputs": [
        {
          "output_type": "stream",
          "name": "stdout",
          "text": [
            "Enter the countdown u want?\n",
            "10\n",
            "10\n",
            "9\n",
            "8\n",
            "7\n",
            "6\n",
            "5\n",
            "4\n",
            "3\n",
            "2\n",
            "1\n",
            "0\n"
          ]
        }
      ]
    },
    {
      "cell_type": "code",
      "source": [
        ""
      ],
      "metadata": {
        "id": "HOUJ1vCoMOSh"
      },
      "execution_count": null,
      "outputs": []
    },
    {
      "cell_type": "code",
      "source": [
        ""
      ],
      "metadata": {
        "id": "HLgLOGnAL5w3"
      },
      "execution_count": null,
      "outputs": []
    }
  ]
}